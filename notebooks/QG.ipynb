{
 "cells": [
  {
   "cell_type": "code",
   "execution_count": 1,
   "metadata": {},
   "outputs": [
    {
     "name": "stderr",
     "output_type": "stream",
     "text": [
      "/tmp/ipykernel_1828833/425341679.py:20: MatplotlibDeprecationWarning: The seaborn styles shipped by Matplotlib are deprecated since 3.6, as they no longer correspond to the styles shipped by seaborn. However, they will remain available as 'seaborn-v0_8-<style>'. Alternatively, directly use the seaborn API instead.\n",
      "  plt.style.use(\"seaborn\")\n"
     ]
    },
    {
     "ename": "ModuleNotFoundError",
     "evalue": "No module named 'qgs.diagnostics'",
     "output_type": "error",
     "traceback": [
      "\u001b[0;31m---------------------------------------------------------------------------\u001b[0m",
      "\u001b[0;31mModuleNotFoundError\u001b[0m                       Traceback (most recent call last)",
      "\u001b[1;32m/da_dev/DA_PoC/notebooks/QG.ipynb Cell 1\u001b[0m in \u001b[0;36m<cell line: 22>\u001b[0;34m()\u001b[0m\n\u001b[1;32m     <a href='vscode-notebook-cell://attached-container%2B7b22636f6e7461696e65724e616d65223a222f7669635f646576222c2273657474696e6773223a7b22686f7374223a227373683a2f2f6f72696f6e3633227d7d/da_dev/DA_PoC/notebooks/QG.ipynb#W0sdnNjb2RlLXJlbW90ZQ%3D%3D?line=19'>20</a>\u001b[0m plt\u001b[39m.\u001b[39mstyle\u001b[39m.\u001b[39muse(\u001b[39m\"\u001b[39m\u001b[39mseaborn\u001b[39m\u001b[39m\"\u001b[39m)\n\u001b[1;32m     <a href='vscode-notebook-cell://attached-container%2B7b22636f6e7461696e65724e616d65223a222f7669635f646576222c2273657474696e6773223a7b22686f7374223a227373683a2f2f6f72696f6e3633227d7d/da_dev/DA_PoC/notebooks/QG.ipynb#W0sdnNjb2RlLXJlbW90ZQ%3D%3D?line=20'>21</a>\u001b[0m plt\u001b[39m.\u001b[39mset_cmap(\u001b[39m'\u001b[39m\u001b[39mmagma\u001b[39m\u001b[39m'\u001b[39m)\n\u001b[0;32m---> <a href='vscode-notebook-cell://attached-container%2B7b22636f6e7461696e65724e616d65223a222f7669635f646576222c2273657474696e6773223a7b22686f7374223a227373683a2f2f6f72696f6e3633227d7d/da_dev/DA_PoC/notebooks/QG.ipynb#W0sdnNjb2RlLXJlbW90ZQ%3D%3D?line=21'>22</a>\u001b[0m \u001b[39mfrom\u001b[39;00m \u001b[39mqgs\u001b[39;00m\u001b[39m.\u001b[39;00m\u001b[39mQG\u001b[39;00m \u001b[39mimport\u001b[39;00m QGwrapper\n\u001b[1;32m     <a href='vscode-notebook-cell://attached-container%2B7b22636f6e7461696e65724e616d65223a222f7669635f646576222c2273657474696e6773223a7b22686f7374223a227373683a2f2f6f72696f6e3633227d7d/da_dev/DA_PoC/notebooks/QG.ipynb#W0sdnNjb2RlLXJlbW90ZQ%3D%3D?line=23'>24</a>\u001b[0m \u001b[39m# Let us set a rng for reproducibility\u001b[39;00m\n\u001b[1;32m     <a href='vscode-notebook-cell://attached-container%2B7b22636f6e7461696e65724e616d65223a222f7669635f646576222c2273657474696e6773223a7b22686f7374223a227373683a2f2f6f72696f6e3633227d7d/da_dev/DA_PoC/notebooks/QG.ipynb#W0sdnNjb2RlLXJlbW90ZQ%3D%3D?line=24'>25</a>\u001b[0m rng \u001b[39m=\u001b[39m np\u001b[39m.\u001b[39mrandom\u001b[39m.\u001b[39mdefault_rng(seed\u001b[39m=\u001b[39m\u001b[39m93\u001b[39m)\n",
      "File \u001b[0;32m/da_dev/qgs/QG.py:11\u001b[0m, in \u001b[0;36m<module>\u001b[0;34m\u001b[0m\n\u001b[1;32m      9\u001b[0m \u001b[39m# sys.path.extend([os.path.abspath(\"../\")])\u001b[39;00m\n\u001b[1;32m     10\u001b[0m \u001b[39mimport\u001b[39;00m \u001b[39mnumpy\u001b[39;00m \u001b[39mas\u001b[39;00m \u001b[39mnp\u001b[39;00m\n\u001b[0;32m---> 11\u001b[0m \u001b[39mfrom\u001b[39;00m \u001b[39mqgs\u001b[39;00m\u001b[39m.\u001b[39;00m\u001b[39mdiagnostics\u001b[39;00m\u001b[39m.\u001b[39;00m\u001b[39mmulti\u001b[39;00m \u001b[39mimport\u001b[39;00m MultiDiagnostic\n\u001b[1;32m     12\u001b[0m \u001b[39mfrom\u001b[39;00m \u001b[39mqgs\u001b[39;00m\u001b[39m.\u001b[39;00m\u001b[39mdiagnostics\u001b[39;00m\u001b[39m.\u001b[39;00m\u001b[39mstreamfunctions\u001b[39;00m \u001b[39mimport\u001b[39;00m (\n\u001b[1;32m     13\u001b[0m     LowerLayerAtmosphericStreamfunctionDiagnostic,\n\u001b[1;32m     14\u001b[0m     UpperLayerAtmosphericStreamfunctionDiagnostic,\n\u001b[1;32m     15\u001b[0m )\n\u001b[1;32m     16\u001b[0m \u001b[39mfrom\u001b[39;00m \u001b[39mqgs\u001b[39;00m\u001b[39m.\u001b[39;00m\u001b[39mfunctions\u001b[39;00m\u001b[39m.\u001b[39;00m\u001b[39mtendencies\u001b[39;00m \u001b[39mimport\u001b[39;00m create_tendencies\n",
      "\u001b[0;31mModuleNotFoundError\u001b[0m: No module named 'qgs.diagnostics'"
     ]
    },
    {
     "data": {
      "text/plain": [
       "<Figure size 432x288 with 0 Axes>"
      ]
     },
     "metadata": {},
     "output_type": "display_data"
    }
   ],
   "source": [
    "import sys\n",
    "import os\n",
    "sys.path.append(\"/home/vtrappler/\")\n",
    "sys.path.append(\"/home/vtrappler/qgs/\")\n",
    "\n",
    "import warnings\n",
    "from typing import Callable, Tuple\n",
    "\n",
    "import matplotlib.pyplot as plt\n",
    "import numpy as np\n",
    "import tqdm\n",
    "from numba.core.errors import NumbaPerformanceWarning\n",
    "\n",
    "warnings.simplefilter('ignore', category=NumbaPerformanceWarning)\n",
    "# m = n * (nobs + 1)\n",
    "from DA_PoC.common.numerical_model import NumericalModel\n",
    "from DA_PoC.common.observation_operator import IdentityObservationOperator\n",
    "from dynamical_systems.quasigeostrophic_numerical_model import create_QG_model\n",
    "\n",
    "plt.style.use(\"seaborn-v0_8\")\n",
    "plt.set_cmap('magma')\n",
    "from qgs.QG import QGwrapper\n",
    "\n",
    "# Let us set a rng for reproducibility\n",
    "rng = np.random.default_rng(seed=93)\n",
    "\n",
    "qg_model = QGwrapper(wavenumbers=(4, 3), tsteps=0.05, write_steps=1, dt=0.01)\n",
    "qg_model.configure(tangent_linear=True)\n",
    "qg_model.burn_model(burn=20_000)"
   ]
  },
  {
   "cell_type": "code",
   "execution_count": null,
   "metadata": {},
   "outputs": [
    {
     "ename": "",
     "evalue": "",
     "output_type": "error",
     "traceback": [
      "\u001b[1;31mFailed to start the Kernel. \n",
      "\u001b[1;31mCannot execute code, session has been disposed. \n",
      "\u001b[1;31mView Jupyter <a href='command:jupyter.viewOutput'>log</a> for further details."
     ]
    }
   ],
   "source": [
    "# plt.subplot(1, 2, 1)\n",
    "# plt.imshow(np.cov(traj))\n",
    "# plt.subplot(1, 2, 2)\n",
    "# plt.imshow(np.linalg.inv(np.cov(traj)))\n",
    "# np.linalg.slogdet(np.cov(traj))"
   ]
  },
  {
   "cell_type": "code",
   "execution_count": null,
   "metadata": {},
   "outputs": [
    {
     "ename": "",
     "evalue": "",
     "output_type": "error",
     "traceback": [
      "\u001b[1;31mFailed to start the Kernel. \n",
      "\u001b[1;31mCannot execute code, session has been disposed. \n",
      "\u001b[1;31mView Jupyter <a href='command:jupyter.viewOutput'>log</a> for further details."
     ]
    }
   ],
   "source": [
    "import os\n",
    "if not os.path.exists(f'Binv_{qg_model.x}_{qg_model.y}.npy'):\n",
    "    time, traj = qg_model.forward(qg_model.initial_conditions, tsteps=10_000, write_steps=10)\n",
    "    print(traj.shape)\n",
    "    plt.subplot(1, 2, 1)\n",
    "    plt.imshow(np.cov(traj))\n",
    "    plt.subplot(1, 2, 2)\n",
    "    plt.imshow(np.linalg.inv(np.cov(traj)))\n",
    "    np.linalg.slogdet(np.cov(traj))\n",
    "    np.save(f\"./Binv_{qg_model.x}_{qg_model.y}.npy\", np.linalg.inv(np.cov(traj)))"
   ]
  },
  {
   "cell_type": "code",
   "execution_count": null,
   "metadata": {},
   "outputs": [
    {
     "ename": "",
     "evalue": "",
     "output_type": "error",
     "traceback": [
      "\u001b[1;31mFailed to start the Kernel. \n",
      "\u001b[1;31mCannot execute code, session has been disposed. \n",
      "\u001b[1;31mView Jupyter <a href='command:jupyter.viewOutput'>log</a> for further details."
     ]
    }
   ],
   "source": [
    "# ## Run model for 1 day\n",
    "# qg_model.change_settings(tsteps=0.5 * qg_model.tstep_1day, write_steps=1, dt=None)\n",
    "# GN, (time, _, _) = qg_model.GaussNewtonMatrix(qg_model.initial_conditions)\n",
    "# slogdet = np.linalg.slogdet(GN)\n",
    "# print(slogdet, np.linalg.cond(GN))\n",
    "# plt.subplot(1, 2, 1)\n",
    "# plt.title(np.linalg.slogdet(GN))\n",
    "# plt.imshow(GN)\n",
    "# plt.subplot(1, 2, 2)\n",
    "# plt.title(np.linalg.cond(GN))\n",
    "# plt.plot(np.linalg.eigvalsh(GN))\n",
    "# plt.yscale(\"log\")\n",
    "# plt.tight_layout()\n",
    "\n",
    "# t, traj, jacobian_ = qg_model.forward_jacobian(x=qg_model.initial_conditions)\n",
    "# jacobian = jacobian_[:, :, -1]"
   ]
  },
  {
   "cell_type": "code",
   "execution_count": null,
   "metadata": {},
   "outputs": [
    {
     "ename": "",
     "evalue": "",
     "output_type": "error",
     "traceback": [
      "\u001b[1;31mFailed to start the Kernel. \n",
      "\u001b[1;31mCannot execute code, session has been disposed. \n",
      "\u001b[1;31mView Jupyter <a href='command:jupyter.viewOutput'>log</a> for further details."
     ]
    }
   ],
   "source": [
    "tsteps = qg_model.tstep_1day / 1.0\n",
    "qg_model.change_settings(tsteps=tsteps, write_steps=1, dt=None)\n",
    "print(f\"{(tsteps / qg_model.tstep_1day) * 24:.2f} hours\")\n",
    "obs_operator = IdentityObservationOperator(qg_model.spectral_dim, qg_model.spectral_dim)\n",
    "qg_model.generate_obs(qg_model.initial_conditions + 0.2, 1)\n",
    "background = np.zeros(qg_model.spectral_dim), np.load(f\"Binv_{qg_model.x}_{qg_model.y}.npy\")\n",
    "# background = None\n",
    "model, sp_fun, gn_fun = create_QG_model(qg_model, obs_operator=obs_operator, background=background, test=True, gnparams=(50, 20, 0.1))\n",
    "x0 = np.zeros(qg_model.spectral_dim)"
   ]
  },
  {
   "cell_type": "code",
   "execution_count": null,
   "metadata": {},
   "outputs": [
    {
     "ename": "",
     "evalue": "",
     "output_type": "error",
     "traceback": [
      "\u001b[1;31mFailed to start the Kernel. \n",
      "\u001b[1;31mCannot execute code, session has been disposed. \n",
      "\u001b[1;31mView Jupyter <a href='command:jupyter.viewOutput'>log</a> for further details."
     ]
    }
   ],
   "source": [
    "obs_operator.H.shape"
   ]
  },
  {
   "cell_type": "code",
   "execution_count": null,
   "metadata": {},
   "outputs": [
    {
     "ename": "",
     "evalue": "",
     "output_type": "error",
     "traceback": [
      "\u001b[1;31mFailed to start the Kernel. \n",
      "\u001b[1;31mCannot execute code, session has been disposed. \n",
      "\u001b[1;31mView Jupyter <a href='command:jupyter.viewOutput'>log</a> for further details."
     ]
    }
   ],
   "source": [
    "import scipy\n",
    "qg_model.generate_obs(qg_model.initial_conditions + np.random.normal(size=qg_model.spectral_dim), 1)\n",
    "model.set_obs(qg_model.obs)\n",
    "res = model.GNmethod(np.zeros(qg_model.spectral_dim), n_outer=10, n_inner=2000, verbose=True)\n",
    "sp_opt = scipy.optimize.minimize(model.cost_function, x0)\n",
    "sp_x, sp_fun = sp_opt.x, sp_opt.fun\n",
    "print(f\"scipy: {sp_fun}\")\n",
    "print(f\"GN: {res[1]}\")\n",
    "plt.plot(res[0], label='GN')\n",
    "plt.plot(sp_x, label='scipy')\n",
    "plt.legend()"
   ]
  },
  {
   "cell_type": "code",
   "execution_count": null,
   "metadata": {},
   "outputs": [
    {
     "ename": "",
     "evalue": "",
     "output_type": "error",
     "traceback": [
      "\u001b[1;31mFailed to start the Kernel. \n",
      "\u001b[1;31mCannot execute code, session has been disposed. \n",
      "\u001b[1;31mView Jupyter <a href='command:jupyter.viewOutput'>log</a> for further details."
     ]
    }
   ],
   "source": [
    "import numpy as np\n",
    "S = np.random.normal(size=(10, 3))\n",
    "H = np.eye(10) + S @ S.T\n",
    "Hm1 = np.eye(10) - S @ np.linalg.inv(np.eye(3) + S.T @ S) @ S.T\n",
    "plt.imshow(H @ Hm1)"
   ]
  },
  {
   "cell_type": "code",
   "execution_count": null,
   "metadata": {},
   "outputs": [
    {
     "ename": "",
     "evalue": "",
     "output_type": "error",
     "traceback": [
      "\u001b[1;31mFailed to start the Kernel. \n",
      "\u001b[1;31mCannot execute code, session has been disposed. \n",
      "\u001b[1;31mView Jupyter <a href='command:jupyter.viewOutput'>log</a> for further details."
     ]
    }
   ],
   "source": [
    "import scipy\n",
    "for _ in range(5):\n",
    "    print(scipy.optimize.check_grad(model.cost_function, model.gradient, x0=np.random.normal(size=qg_model.spectral_dim)))"
   ]
  },
  {
   "cell_type": "code",
   "execution_count": null,
   "metadata": {},
   "outputs": [
    {
     "ename": "",
     "evalue": "",
     "output_type": "error",
     "traceback": [
      "\u001b[1;31mFailed to start the Kernel. \n",
      "\u001b[1;31mCannot execute code, session has been disposed. \n",
      "\u001b[1;31mView Jupyter <a href='command:jupyter.viewOutput'>log</a> for further details."
     ]
    }
   ],
   "source": [
    "plt.plot(qg_model.initial_conditions)"
   ]
  },
  {
   "cell_type": "code",
   "execution_count": null,
   "metadata": {},
   "outputs": [
    {
     "ename": "",
     "evalue": "",
     "output_type": "error",
     "traceback": [
      "\u001b[1;31mFailed to start the Kernel. \n",
      "\u001b[1;31mCannot execute code, session has been disposed. \n",
      "\u001b[1;31mView Jupyter <a href='command:jupyter.viewOutput'>log</a> for further details."
     ]
    }
   ],
   "source": [
    "qg_model.generate_obs(qg_model.initial_conditions + 0.2, 0.01)"
   ]
  },
  {
   "cell_type": "code",
   "execution_count": null,
   "metadata": {},
   "outputs": [
    {
     "ename": "",
     "evalue": "",
     "output_type": "error",
     "traceback": [
      "\u001b[1;31mFailed to start the Kernel. \n",
      "\u001b[1;31mCannot execute code, session has been disposed. \n",
      "\u001b[1;31mView Jupyter <a href='command:jupyter.viewOutput'>log</a> for further details."
     ]
    }
   ],
   "source": [
    "eps = 1e-7\n",
    "x_ = np.random.normal(size=(qg_model.spectral_dim))\n",
    "cost = qg_model.cost_function(x_)\n",
    "grad_fd = []\n",
    "for i in tqdm.trange(qg_model.spectral_dim):\n",
    "    e = np.zeros(qg_model.spectral_dim)\n",
    "    e[i] = 1\n",
    "    grad_fd.append((qg_model.cost_function(x_ + eps * e) - cost) / eps)"
   ]
  },
  {
   "cell_type": "code",
   "execution_count": null,
   "metadata": {},
   "outputs": [
    {
     "ename": "",
     "evalue": "",
     "output_type": "error",
     "traceback": [
      "\u001b[1;31mFailed to start the Kernel. \n",
      "\u001b[1;31mCannot execute code, session has been disposed. \n",
      "\u001b[1;31mView Jupyter <a href='command:jupyter.viewOutput'>log</a> for further details."
     ]
    }
   ],
   "source": [
    "grad = qg_model.gradient(x_)\n",
    "np.array(grad_fd) - grad"
   ]
  },
  {
   "cell_type": "code",
   "execution_count": null,
   "metadata": {},
   "outputs": [
    {
     "ename": "",
     "evalue": "",
     "output_type": "error",
     "traceback": [
      "\u001b[1;31mFailed to start the Kernel. \n",
      "\u001b[1;31mCannot execute code, session has been disposed. \n",
      "\u001b[1;31mView Jupyter <a href='command:jupyter.viewOutput'>log</a> for further details."
     ]
    }
   ],
   "source": [
    "t, traj, jac = qg_model.forward_jacobian(qg_model.initial_conditions)\n",
    "jac = jac[..., -1]\n",
    "GN2 = jac.T @ jac"
   ]
  },
  {
   "cell_type": "code",
   "execution_count": null,
   "metadata": {},
   "outputs": [
    {
     "ename": "",
     "evalue": "",
     "output_type": "error",
     "traceback": [
      "\u001b[1;31mFailed to start the Kernel. \n",
      "\u001b[1;31mCannot execute code, session has been disposed. \n",
      "\u001b[1;31mView Jupyter <a href='command:jupyter.viewOutput'>log</a> for further details."
     ]
    }
   ],
   "source": [
    "GN, _ = qg_model.GaussNewtonMatrix(qg_model.initial_conditions)\n",
    "np.linalg.slogdet(GN)"
   ]
  },
  {
   "cell_type": "code",
   "execution_count": null,
   "metadata": {},
   "outputs": [
    {
     "ename": "",
     "evalue": "",
     "output_type": "error",
     "traceback": [
      "\u001b[1;31mFailed to start the Kernel. \n",
      "\u001b[1;31mCannot execute code, session has been disposed. \n",
      "\u001b[1;31mView Jupyter <a href='command:jupyter.viewOutput'>log</a> for further details."
     ]
    }
   ],
   "source": [
    "plt.style.available"
   ]
  },
  {
   "cell_type": "code",
   "execution_count": null,
   "metadata": {},
   "outputs": [
    {
     "ename": "",
     "evalue": "",
     "output_type": "error",
     "traceback": [
      "\u001b[1;31mFailed to start the Kernel. \n",
      "\u001b[1;31mCannot execute code, session has been disposed. \n",
      "\u001b[1;31mView Jupyter <a href='command:jupyter.viewOutput'>log</a> for further details."
     ]
    }
   ],
   "source": []
  }
 ],
 "metadata": {
  "kernelspec": {
   "display_name": "Python 3",
   "language": "python",
   "name": "python3"
  },
  "language_info": {
   "codemirror_mode": {
    "name": "ipython",
    "version": 3
   },
   "file_extension": ".py",
   "mimetype": "text/x-python",
   "name": "python",
   "nbconvert_exporter": "python",
   "pygments_lexer": "ipython3",
   "version": "3.8.6 (default, Jan 22 2021, 11:41:28) \n[GCC 8.4.1 20200928 (Red Hat 8.4.1-1)]"
  },
  "orig_nbformat": 4,
  "vscode": {
   "interpreter": {
    "hash": "916dbcbb3f70747c44a77c7bcd40155683ae19c65e1c03b4aa3499c5328201f1"
   }
  }
 },
 "nbformat": 4,
 "nbformat_minor": 2
}
