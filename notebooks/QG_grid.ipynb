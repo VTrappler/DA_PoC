{
 "cells": [
  {
   "cell_type": "code",
   "execution_count": 1,
   "metadata": {},
   "outputs": [],
   "source": [
    "%load_ext autoreload\n",
    "%autoreload 2"
   ]
  },
  {
   "cell_type": "code",
   "execution_count": 2,
   "metadata": {},
   "outputs": [
    {
     "name": "stdout",
     "output_type": "stream",
     "text": [
      "Number of (spectral) parameters = 2y*(2x+1) = 28\n",
      "Number of grid points = 4x+2, 4y+2 = (14, 10) = 140\n",
      "Number of saved points: 6\n"
     ]
    },
    {
     "data": {
      "text/plain": [
       "<Figure size 432x288 with 0 Axes>"
      ]
     },
     "metadata": {},
     "output_type": "display_data"
    }
   ],
   "source": [
    "import sys\n",
    "import os\n",
    "sys.path.append(\"..\")\n",
    "sys.path.append(\"../..\")\n",
    "sys.path.append(\"/da_dev/qgs/\")\n",
    "\n",
    "import warnings\n",
    "from typing import Callable, Tuple\n",
    "\n",
    "import matplotlib.pyplot as plt\n",
    "import numpy as np\n",
    "import tqdm\n",
    "from numba.core.errors import NumbaPerformanceWarning\n",
    "\n",
    "warnings.simplefilter('ignore', category=NumbaPerformanceWarning)\n",
    "# m = n * (nobs + 1)\n",
    "from common.numerical_model import NumericalModel\n",
    "from common.observation_operator import IdentityObservationOperator\n",
    "from dynamical_systems.quasigeostrophic_numerical_model import create_QG_model, create_QG_model_grid\n",
    "\n",
    "plt.style.use(\"seaborn\") #type: ignore\n",
    "plt.set_cmap('magma')\n",
    "from qgs.QG import QGwrapper #type: ignore\n",
    "\n",
    "# Let us set a rng for reproducibility\n",
    "rng = np.random.default_rng(seed=93)\n",
    "\n",
    "qg_model = QGwrapper(wavenumbers=(3, 2), tsteps=0.05, write_steps=1, dt=0.01)\n",
    "qg_model.configure(tangent_linear=True)\n",
    "qg_model.burn_model(burn=20_000)"
   ]
  },
  {
   "cell_type": "code",
   "execution_count": null,
   "metadata": {},
   "outputs": [],
   "source": []
  },
  {
   "cell_type": "code",
   "execution_count": 3,
   "metadata": {},
   "outputs": [],
   "source": [
    "# plt.subplot(1, 2, 1)\n",
    "# plt.imshow(np.cov(traj))\n",
    "# plt.subplot(1, 2, 2)\n",
    "# plt.imshow(np.linalg.inv(np.cov(traj)))\n",
    "# np.linalg.slogdet(np.cov(traj))\n"
   ]
  },
  {
   "cell_type": "code",
   "execution_count": 4,
   "metadata": {},
   "outputs": [],
   "source": [
    "# import os\n",
    "# if not os.path.exists(f'quasi_geostrophic_Binv/Binv_{qg_model.x}_{qg_model.y}.npy'):\n",
    "#     time, traj = qg_model.forward(qg_model.initial_conditions, tsteps=10_000, write_steps=10)\n",
    "#     print(traj.shape)\n",
    "#     plt.subplot(1, 2, 1)\n",
    "#     plt.imshow(np.cov(traj))\n",
    "#     plt.subplot(1, 2, 2)\n",
    "#     plt.imshow(np.linalg.inv(np.cov(traj)))\n",
    "#     np.linalg.slogdet(np.cov(traj))\n",
    "#     np.save(f\"quasi_geostrophic_Binv/Binv_{qg_model.x}_{qg_model.y}.npy\", np.linalg.inv(np.cov(traj)))"
   ]
  },
  {
   "cell_type": "code",
   "execution_count": 5,
   "metadata": {},
   "outputs": [],
   "source": [
    "# ## Run model for 1 day\n",
    "# qg_model.change_settings(tsteps=0.5 * qg_model.tstep_1day, write_steps=1, dt=None)\n",
    "# GN, (time, _, _) = qg_model.GaussNewtonMatrix(qg_model.initial_conditions)\n",
    "# slogdet = np.linalg.slogdet(GN)\n",
    "# print(slogdet, np.linalg.cond(GN))\n",
    "# plt.subplot(1, 2, 1)\n",
    "# plt.title(np.linalg.slogdet(GN))\n",
    "# plt.imshow(GN)\n",
    "# plt.subplot(1, 2, 2)\n",
    "# plt.title(np.linalg.cond(GN))\n",
    "# plt.plot(np.linalg.eigvalsh(GN))\n",
    "# plt.yscale(\"log\")\n",
    "# plt.tight_layout()\n",
    "\n",
    "# t, traj, jacobian_ = qg_model.forward_jacobian(x=qg_model.initial_conditions)\n",
    "# jacobian = jacobian_[:, :, -1]"
   ]
  },
  {
   "cell_type": "code",
   "execution_count": 6,
   "metadata": {},
   "outputs": [
    {
     "name": "stdout",
     "output_type": "stream",
     "text": [
      "tsteps is overwritten\n",
      "Previous tsteps: 20000\n",
      "New tsteps: 8.91648 (1.000 days)\n",
      "writesteps is overwritten\n",
      "Previous write_steps: 0\n",
      "New write_steps: 1\n",
      "24.00 hours\n"
     ]
    }
   ],
   "source": [
    "from common.observation_operator import RandomObservationOperator\n",
    "\n",
    "\n",
    "tsteps = qg_model.tstep_1day * 1.0\n",
    "qg_model.change_settings(tsteps=tsteps, write_steps=1, dt=None)\n",
    "print(f\"{(tsteps / qg_model.tstep_1day) * 24:.2f} hours\")\n",
    "obs_operator = RandomObservationOperator(2 * qg_model.grid_x * qg_model.grid_y, 2 * qg_model.grid_x * qg_model.grid_y, type='square', p=0.5, p_offdiag=0.01)\n",
    "obs_operator = IdentityObservationOperator(2 * qg_model.grid_x * qg_model.grid_y, 2 * qg_model.grid_x * qg_model.grid_y)\n",
    "\n",
    "\n",
    "truth = np.moveaxis(np.array(qg_model.forward_grid(qg_model.initial_conditions)[2])[:, -1, :, :], -1, -2).flatten()\n",
    "\n",
    "obs = truth + np.random.normal(size=truth.shape)\n",
    "qg_model.obs = obs\n",
    "\n",
    "Binv = np.load(f\"quasi_geostrophic_Binv/Binv_{qg_model.x}_{qg_model.y}.npy\")\n",
    "L = np.linalg.cholesky(np.linalg.inv(Binv))\n",
    "\n",
    "background = np.zeros(qg_model.spectral_dim), Binv, L\n",
    "# background = None\n",
    "# model, sp_fun, gn_fun = create_QG_model(qg_model, obs_operator=obs_operator, background=background, test=False, gnparams=(50, 10, 0.1))\n",
    "model, _, _ = create_QG_model_grid(qg_model, obs_operator=obs_operator, background=background, test=False, gnparams=(10, 10, 0.1))\n",
    "# model, _, _ = create_QG_model_grid(qg_model, obs_operator=obs_operator, background=background, test=True, gnparams=(50, 10, 0.1))\n",
    "\n",
    "x0 = np.zeros(qg_model.spectral_dim)\n"
   ]
  },
  {
   "cell_type": "code",
   "execution_count": 7,
   "metadata": {},
   "outputs": [
    {
     "data": {
      "text/plain": [
       "<matplotlib.image.AxesImage at 0x7fab75eed970>"
      ]
     },
     "execution_count": 7,
     "metadata": {},
     "output_type": "execute_result"
    },
    {
     "data": {
      "image/png": "[encoded data removed]",
      "text/plain": [
       "<Figure size 432x288 with 1 Axes>"
      ]
     },
     "metadata": {
      "needs_background": "light"
     },
     "output_type": "display_data"
    }
   ],
   "source": [
    "plt.imshow(obs_operator.H)"
   ]
  },
  {
   "cell_type": "code",
   "execution_count": 8,
   "metadata": {},
   "outputs": [
    {
     "name": "stdout",
     "output_type": "stream",
     "text": [
      "niter,     f(x),  CG iter, log-det,   cond\n",
      "    0, 134.0000,       38, 222.69, 1.9999e+02\n",
      "    1, 132.0443,       37, 223.08, 2.2661e+02\n",
      "    2, 133.0125,       35, 222.63, 2.1379e+02\n",
      "    3, 132.7591,       36, 222.61, 2.2546e+02\n",
      "    4, 134.6401,       37, 222.47, 2.0582e+02\n",
      "    5, 134.1401,       37, 222.41, 2.1482e+02\n",
      "    6, 136.6404,       37, 222.01, 1.9709e+02\n",
      "    7, 135.1765,       37, 222.09, 2.1414e+02\n",
      "    8, 136.8174,       36, 222.34, 1.6209e+02\n",
      "    9, 133.2899,       36, 221.71, 2.3202e+02\n"
     ]
    },
    {
     "ename": "NameError",
     "evalue": "name 'sp_opt' is not defined",
     "output_type": "error",
     "traceback": [
      "\u001b[0;31m---------------------------------------------------------------------------\u001b[0m",
      "\u001b[0;31mNameError\u001b[0m                                 Traceback (most recent call last)",
      "\u001b[1;32m/da_dev/DA_PoC/QG_grid.ipynb Cell 9\u001b[0m in \u001b[0;36m<cell line: 4>\u001b[0;34m()\u001b[0m\n\u001b[1;32m      <a href='vscode-notebook-cell://attached-container%2B7b22636f6e7461696e65724e616d65223a222f7669635f6461222c2273657474696e6773223a7b22686f7374223a227373683a2f2f6f72696f6e3633227d7d/da_dev/DA_PoC/QG_grid.ipynb#X11sdnNjb2RlLXJlbW90ZQ%3D%3D?line=1'>2</a>\u001b[0m res \u001b[39m=\u001b[39m model\u001b[39m.\u001b[39mGNmethod(qg_model\u001b[39m.\u001b[39minitial_conditions, n_outer\u001b[39m=\u001b[39m\u001b[39m10\u001b[39m, n_inner\u001b[39m=\u001b[39m\u001b[39m500\u001b[39m, verbose\u001b[39m=\u001b[39m\u001b[39mTrue\u001b[39;00m)\n\u001b[1;32m      <a href='vscode-notebook-cell://attached-container%2B7b22636f6e7461696e65724e616d65223a222f7669635f6461222c2273657474696e6773223a7b22686f7374223a227373683a2f2f6f72696f6e3633227d7d/da_dev/DA_PoC/QG_grid.ipynb#X11sdnNjb2RlLXJlbW90ZQ%3D%3D?line=2'>3</a>\u001b[0m \u001b[39m# sp_opt = scipy.optimize.minimize(model.cost_function, x0)\u001b[39;00m\n\u001b[0;32m----> <a href='vscode-notebook-cell://attached-container%2B7b22636f6e7461696e65724e616d65223a222f7669635f6461222c2273657474696e6773223a7b22686f7374223a227373683a2f2f6f72696f6e3633227d7d/da_dev/DA_PoC/QG_grid.ipynb#X11sdnNjb2RlLXJlbW90ZQ%3D%3D?line=3'>4</a>\u001b[0m sp_x, sp_fun \u001b[39m=\u001b[39m sp_opt\u001b[39m.\u001b[39mx, sp_opt\u001b[39m.\u001b[39mfun\n\u001b[1;32m      <a href='vscode-notebook-cell://attached-container%2B7b22636f6e7461696e65724e616d65223a222f7669635f6461222c2273657474696e6773223a7b22686f7374223a227373683a2f2f6f72696f6e3633227d7d/da_dev/DA_PoC/QG_grid.ipynb#X11sdnNjb2RlLXJlbW90ZQ%3D%3D?line=4'>5</a>\u001b[0m \u001b[39mprint\u001b[39m(\u001b[39mf\u001b[39m\u001b[39m\"\u001b[39m\u001b[39mscipy: \u001b[39m\u001b[39m{\u001b[39;00msp_fun\u001b[39m}\u001b[39;00m\u001b[39m\"\u001b[39m)\n\u001b[1;32m      <a href='vscode-notebook-cell://attached-container%2B7b22636f6e7461696e65724e616d65223a222f7669635f6461222c2273657474696e6773223a7b22686f7374223a227373683a2f2f6f72696f6e3633227d7d/da_dev/DA_PoC/QG_grid.ipynb#X11sdnNjb2RlLXJlbW90ZQ%3D%3D?line=5'>6</a>\u001b[0m \u001b[39mprint\u001b[39m(\u001b[39mf\u001b[39m\u001b[39m\"\u001b[39m\u001b[39mGN: \u001b[39m\u001b[39m{\u001b[39;00mres[\u001b[39m1\u001b[39m]\u001b[39m}\u001b[39;00m\u001b[39m\"\u001b[39m)\n",
      "\u001b[0;31mNameError\u001b[0m: name 'sp_opt' is not defined"
     ]
    }
   ],
   "source": [
    "import scipy.optimize\n",
    "res = model.GNmethod(qg_model.initial_conditions, n_outer=10, n_inner=500, verbose=True)\n",
    "# sp_opt = scipy.optimize.minimize(model.cost_function, x0)\n",
    "# sp_x, sp_fun = sp_opt.x, sp_opt.fun\n",
    "print(f\"scipy: {sp_fun}\")\n",
    "print(f\"GN: {res[1]}\")\n",
    "plt.plot(res[0], label='GN')\n",
    "plt.plot(sp_x, label='scipy')\n",
    "plt.legend()\n",
    "GN_no_prec = res[0]"
   ]
  },
  {
   "cell_type": "code",
   "execution_count": null,
   "metadata": {},
   "outputs": [
    {
     "name": "stdout",
     "output_type": "stream",
     "text": [
      "scipy: 1234.9633403145663\n"
     ]
    }
   ],
   "source": [
    "print(f\"scipy: {sp_fun}\")\n"
   ]
  },
  {
   "cell_type": "code",
   "execution_count": 9,
   "metadata": {},
   "outputs": [
    {
     "name": "stdout",
     "output_type": "stream",
     "text": [
      "niter,     f(x),  CG iter, log-det,   cond\n"
     ]
    }
   ],
   "source": [
    "import scipy.optimize\n",
    "res = model.GNmethod(qg_model.initial_conditions, n_outer=10, n_inner=500, verbose=True, prec='bck')\n",
    "sp_opt = scipy.optimize.minimize(model.cost_function, x0)\n",
    "sp_x, sp_fun = sp_opt.x, sp_opt.fun\n",
    "print(f\"scipy: {sp_fun}\")\n",
    "print(f\"GN: {res[1]}\")\n",
    "plt.plot(res[0], label='GN')\n",
    "plt.plot(sp_x, label='scipy')\n",
    "plt.legend()\n",
    "GN_no_prec = res[0]"
   ]
  },
  {
   "cell_type": "code",
   "execution_count": null,
   "metadata": {},
   "outputs": [
    {
     "data": {
      "text/plain": [
       "[<matplotlib.lines.Line2D at 0x7f85f5b2b3a0>]"
      ]
     },
     "execution_count": 43,
     "metadata": {},
     "output_type": "execute_result"
    },
    {
     "data": {
      "image/png": "[encoded data removed]",
      "text/plain": [
       "<Figure size 576x396 with 1 Axes>"
      ]
     },
     "metadata": {},
     "output_type": "display_data"
    }
   ],
   "source": [
    "plt.plot(res[0], label='GN')\n",
    "plt.plot(qg_model.initial_conditions)"
   ]
  },
  {
   "cell_type": "code",
   "execution_count": null,
   "metadata": {},
   "outputs": [],
   "source": [
    "def get_GN(x0):\n",
    "    traj_, jac_grid = qg_model.forward_jacobian_grid(qg_model.initial_conditions, return_traj=True)\n",
    "    G = np.asarray((jac_grid))[..., -1].reshape(-1, 54)\n",
    "    return traj_[:, -1], G.T @ G\n"
   ]
  },
  {
   "cell_type": "code",
   "execution_count": null,
   "metadata": {},
   "outputs": [
    {
     "data": {
      "text/plain": [
       "((18, 14, 54, 893), (54, 893))"
      ]
     },
     "execution_count": 10,
     "metadata": {},
     "output_type": "execute_result"
    }
   ],
   "source": []
  },
  {
   "cell_type": "code",
   "execution_count": null,
   "metadata": {},
   "outputs": [],
   "source": [
    "traj = traj_[:, -1]\n",
    "jac_up = jac_grid[0][..., -1]\n",
    "jac_low = jac_grid[1][..., -1]"
   ]
  },
  {
   "cell_type": "code",
   "execution_count": null,
   "metadata": {},
   "outputs": [
    {
     "data": {
      "text/plain": [
       "((54,), (18, 14, 54), (18, 14, 54))"
      ]
     },
     "execution_count": 14,
     "metadata": {},
     "output_type": "execute_result"
    }
   ],
   "source": [
    "traj.shape, jac_low.shape, jac_up.shape"
   ]
  },
  {
   "cell_type": "code",
   "execution_count": null,
   "metadata": {},
   "outputs": [],
   "source": []
  },
  {
   "cell_type": "code",
   "execution_count": null,
   "metadata": {},
   "outputs": [
    {
     "data": {
      "text/plain": [
       "(54,)"
      ]
     },
     "execution_count": 31,
     "metadata": {},
     "output_type": "execute_result"
    }
   ],
   "source": [
    "traj.shape"
   ]
  },
  {
   "cell_type": "code",
   "execution_count": null,
   "metadata": {},
   "outputs": [],
   "source": []
  }
 ],
 "metadata": {
  "kernelspec": {
   "display_name": "Python 3.8.6 64-bit",
   "language": "python",
   "name": "python3"
  },
  "language_info": {
   "codemirror_mode": {
    "name": "ipython",
    "version": 3
   },
   "file_extension": ".py",
   "mimetype": "text/x-python",
   "name": "python",
   "nbconvert_exporter": "python",
   "pygments_lexer": "ipython3",
   "version": "3.8.6"
  },
  "orig_nbformat": 4,
  "vscode": {
   "interpreter": {
    "hash": "5b3ded1ccb95c1d9bd405e7b823d9e85424cde40fbb5985eb47e999ef50e15b4"
   }
  }
 },
 "nbformat": 4,
 "nbformat_minor": 2
}
