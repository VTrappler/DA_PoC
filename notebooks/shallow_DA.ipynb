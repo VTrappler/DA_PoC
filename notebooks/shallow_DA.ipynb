{
 "cells": [
  {
   "cell_type": "code",
   "execution_count": 5,
   "metadata": {},
   "outputs": [],
   "source": [
    "import sys\n",
    "sys.path.append('..')\n",
    "import matplotlib.pyplot as plt"
   ]
  },
  {
   "cell_type": "code",
   "execution_count": 6,
   "metadata": {},
   "outputs": [],
   "source": [
    "#from DA_PoC.dynamical_systems.sw_numerical_model \n",
    "from DA_PoC.dynamical_systems.examples.sw import SWModelJax\n",
    "from DA_PoC.common.numerical_model import NumericalModel\n",
    "\n",
    "from DA_PoC.common.observation_operator import LinearObservationOperator\n",
    "import numpy as np"
   ]
  },
  {
   "cell_type": "code",
   "execution_count": 7,
   "metadata": {},
   "outputs": [],
   "source": [
    "n_x = 32\n",
    "dx = 5e3\n",
    "n_y = 32\n",
    "dy = 5e3\n",
    "swmodel = SWModelJax(n_x, dx, n_y, dy, periodic_x=True)\n"
   ]
  },
  {
   "cell_type": "code",
   "execution_count": 64,
   "metadata": {},
   "outputs": [
    {
     "name": "stdout",
     "output_type": "stream",
     "text": [
      "Observation operator set already\n"
     ]
    }
   ],
   "source": [
    "state_dimension = 3 * swmodel.state_variable_length\n",
    "obs_dimension = swmodel.state_variable_length\n",
    "h_no_nan = np.eye(swmodel.state_variable_length)\n",
    "for i in range(swmodel.state_variable_length):\n",
    "    if i % 32 == 0:\n",
    "        h_no_nan[i, i] = 0\n",
    "        h_no_nan[i-1, i-1] = 0\n",
    "\n",
    "H_obs = np.hstack(\n",
    "    [\n",
    "        np.zeros((swmodel.state_variable_length, swmodel.state_variable_length)),\n",
    "        np.zeros((swmodel.state_variable_length, swmodel.state_variable_length)),\n",
    "        h_no_nan,\n",
    "    ]\n",
    ")\n",
    "obs_operator = LinearObservationOperator(Hmatrix=H_obs)\n",
    "window = 15\n",
    "# print(f\"{lorenz.obs.shape=}\")\n",
    "# print(f\"{lorenz.H=}\")\n",
    "numerical_model_sw = NumericalModel(state_dimension, obs_dimension)\n",
    "background = np.zeros(state_dimension)\n",
    "background[swmodel.slice_h] = swmodel.depth\n",
    "numerical_model_sw.background = background\n",
    "numerical_model_sw.background_error_cov_inv = np.eye(state_dimension)\n",
    "numerical_model_sw.set_observation_operator(obs_operator)\n",
    "def remove_nan(array):\n",
    "    return np.where(np.isnan(array), 0, array)\n",
    "numerical_model_sw.set_forward(lambda x: remove_nan(swmodel.forward(x, n_steps=window)))\n",
    "numerical_model_sw.set_tangent_linear(\n",
    "    lambda x: np.asarray(swmodel.forward_TLM(x, n_steps=window)[0])\n",
    ")\n",
    "x0_t = background\n",
    "x0_t[swmodel.slice_h] += 3 * np.random.randn(swmodel.state_variable_length)"
   ]
  },
  {
   "cell_type": "code",
   "execution_count": 41,
   "metadata": {},
   "outputs": [
    {
     "name": "stderr",
     "output_type": "stream",
     "text": [
      "16it [00:02,  7.06it/s]                        \n"
     ]
    }
   ],
   "source": [
    "# new_state = numerical_model_sw.forward_no_obs(x0_t)\n",
    "def generate_obs_no_noise(x0, n_steps):\n",
    "    return remove_nan(swmodel.forward(x0, n_steps=n_steps)[swmodel.slice_h])\n",
    "\n",
    "true_obs = generate_obs_no_noise(x0_t, window)\n"
   ]
  },
  {
   "cell_type": "code",
   "execution_count": 37,
   "metadata": {},
   "outputs": [
    {
     "data": {
      "text/plain": [
       "<matplotlib.colorbar.Colorbar at 0x7f5fc06ca8c0>"
      ]
     },
     "execution_count": 37,
     "metadata": {},
     "output_type": "execute_result"
    },
    {
     "data": {
      "image/png": "[encoded data removed]",
      "text/plain": [
       "<Figure size 640x480 with 2 Axes>"
      ]
     },
     "metadata": {},
     "output_type": "display_data"
    }
   ],
   "source": [
    "plt.imshow(true_obs.reshape(32, 32))\n",
    "plt.colorbar()"
   ]
  },
  {
   "cell_type": "code",
   "execution_count": 48,
   "metadata": {},
   "outputs": [
    {
     "data": {
      "text/plain": [
       "array([  0.      ,  97.40212 , 101.207344, ..., 100.86084 ,  97.593506,\n",
       "         0.      ], dtype=float32)"
      ]
     },
     "execution_count": 48,
     "metadata": {},
     "output_type": "execute_result"
    }
   ],
   "source": [
    "true_obs"
   ]
  },
  {
   "cell_type": "code",
   "execution_count": 49,
   "metadata": {},
   "outputs": [],
   "source": [
    "noisy_obs = true_obs +  0.01*np.random.normal(loc=0, scale=0.1, size=true_obs.shape)"
   ]
  },
  {
   "cell_type": "code",
   "execution_count": 50,
   "metadata": {},
   "outputs": [
    {
     "name": "stderr",
     "output_type": "stream",
     "text": [
      "16it [00:02,  7.01it/s]                        \n"
     ]
    },
    {
     "data": {
      "text/plain": [
       "3542.7964801233484"
      ]
     },
     "execution_count": 50,
     "metadata": {},
     "output_type": "execute_result"
    }
   ],
   "source": [
    "numerical_model_sw.set_obs(noisy_obs)\n",
    "numerical_model_sw.cost_function(x0_t)\n"
   ]
  },
  {
   "cell_type": "code",
   "execution_count": 65,
   "metadata": {},
   "outputs": [
    {
     "name": "stdout",
     "output_type": "stream",
     "text": [
      "Test Forw/TLM\n"
     ]
    },
    {
     "name": "stderr",
     "output_type": "stream",
     "text": [
      "16it [00:02,  7.04it/s]                        \n",
      "16it [00:02,  6.96it/s]                        \n",
      "16it [00:10,  1.57it/s]                        \n",
      "16it [00:02,  7.06it/s]                        \n",
      "16it [00:02,  6.93it/s]                        \n",
      "16it [00:10,  1.52it/s]                        \n",
      "16it [00:02,  7.01it/s]                        \n",
      "16it [00:02,  6.90it/s]                        \n",
      "16it [00:10,  1.54it/s]                        \n",
      "16it [00:02,  6.96it/s]                        \n",
      "16it [00:02,  6.73it/s]                        \n",
      "16it [00:10,  1.55it/s]                        \n",
      "16it [00:02,  6.98it/s]                        \n",
      "16it [00:02,  7.01it/s]                        \n",
      "16it [00:10,  1.57it/s]                        \n",
      "16it [00:02,  6.99it/s]                        \n",
      "16it [00:02,  7.03it/s]                        \n",
      "16it [00:10,  1.58it/s]                        \n",
      "16it [00:02,  7.01it/s]                        \n",
      "16it [00:02,  7.05it/s]                        \n",
      "16it [00:10,  1.55it/s]                        \n",
      "16it [00:02,  7.18it/s]                        \n",
      "16it [00:02,  6.98it/s]                        \n",
      "16it [00:10,  1.56it/s]                        \n",
      "16it [00:02,  7.03it/s]                        \n",
      "16it [00:02,  6.99it/s]                        \n",
      "16it [00:10,  1.56it/s]                        \n",
      "16it [00:02,  7.05it/s]                        \n",
      "16it [00:02,  7.00it/s]                        \n",
      "16it [00:10,  1.58it/s]                        \n",
      "16it [00:02,  7.05it/s]                        \n",
      "16it [00:02,  7.00it/s]                        \n",
      "16it [00:10,  1.57it/s]                        \n",
      "16it [00:02,  7.14it/s]                        \n",
      "16it [00:02,  7.07it/s]                        \n",
      "16it [00:10,  1.54it/s]                        \n",
      "16it [00:02,  6.89it/s]                        \n",
      "16it [00:02,  7.01it/s]                        \n",
      "16it [00:10,  1.53it/s]                        \n",
      "16it [00:02,  7.00it/s]                        \n",
      "16it [00:02,  6.93it/s]                        \n",
      "16it [00:10,  1.54it/s]                        \n",
      "16it [00:02,  7.04it/s]                        \n",
      "16it [00:02,  6.83it/s]                        \n",
      "16it [00:10,  1.54it/s]                        \n"
     ]
    },
    {
     "ename": "TypeError",
     "evalue": "cannot unpack non-iterable NoneType object",
     "output_type": "error",
     "traceback": [
      "\u001b[0;31m---------------------------------------------------------------------------\u001b[0m",
      "\u001b[0;31mTypeError\u001b[0m                                 Traceback (most recent call last)",
      "Cell \u001b[0;32mIn[65], line 1\u001b[0m\n\u001b[0;32m----> 1\u001b[0m numerical_model_sw\u001b[39m.\u001b[39;49mtests_consistency()\n\u001b[1;32m      2\u001b[0m \u001b[39m# res=  swmodel.forward_TLM_h(x0_t, n_steps=window)\u001b[39;00m\n",
      "File \u001b[0;32m/DA_PoC/DA_PoC/common/numerical_model.py:198\u001b[0m, in \u001b[0;36mNumericalModel.tests_consistency\u001b[0;34m(self)\u001b[0m\n\u001b[1;32m    196\u001b[0m \u001b[39mdef\u001b[39;00m \u001b[39mtests_consistency\u001b[39m(\u001b[39mself\u001b[39m) \u001b[39m-\u001b[39m\u001b[39m>\u001b[39m \u001b[39mNone\u001b[39;00m:\n\u001b[1;32m    197\u001b[0m \u001b[39m    \u001b[39m\u001b[39m\"\"\"Performs the consistency test between forward, TLM and adjoint based gradient\"\"\"\u001b[39;00m\n\u001b[0;32m--> 198\u001b[0m     alpha, rat \u001b[39m=\u001b[39m \u001b[39mself\u001b[39m\u001b[39m.\u001b[39mtest_consistency_tlm_forward(plot\u001b[39m=\u001b[39m\u001b[39mFalse\u001b[39;00m)\n\u001b[1;32m    199\u001b[0m     \u001b[39mimport\u001b[39;00m \u001b[39mmatplotlib\u001b[39;00m\u001b[39m.\u001b[39;00m\u001b[39mpyplot\u001b[39;00m \u001b[39mas\u001b[39;00m \u001b[39mplt\u001b[39;00m\n\u001b[1;32m    200\u001b[0m     \u001b[39mimport\u001b[39;00m \u001b[39mscipy\u001b[39;00m\n",
      "\u001b[0;31mTypeError\u001b[0m: cannot unpack non-iterable NoneType object"
     ]
    }
   ],
   "source": [
    "numerical_model_sw.tests_consistency()\n",
    "# res=  swmodel.forward_TLM_h(x0_t, n_steps=window)"
   ]
  },
  {
   "cell_type": "code",
   "execution_count": 59,
   "metadata": {},
   "outputs": [],
   "source": [
    "import scipy.sparse.linalg as sla\n"
   ]
  },
  {
   "cell_type": "code",
   "execution_count": 61,
   "metadata": {},
   "outputs": [
    {
     "data": {
      "text/plain": [
       "<1024x3072 MatrixLinearOperator with dtype=float32>"
      ]
     },
     "execution_count": 61,
     "metadata": {},
     "output_type": "execute_result"
    }
   ],
   "source": [
    "res[0]\n",
    "sla.aslinearoperator(np.asarray(res[0]))"
   ]
  },
  {
   "cell_type": "code",
   "execution_count": 34,
   "metadata": {},
   "outputs": [
    {
     "data": {
      "text/plain": [
       "True"
      ]
     },
     "execution_count": 34,
     "metadata": {},
     "output_type": "execute_result"
    }
   ],
   "source": [
    "# (H_obs @ np.where(np.isnan(no_obs), 0, no_obs) == remove_nan(no_obs[swmodel.slice_h])).all()\n"
   ]
  },
  {
   "cell_type": "code",
   "execution_count": null,
   "metadata": {},
   "outputs": [
    {
     "name": "stderr",
     "output_type": "stream",
     "text": [
      "16it [00:02,  7.31it/s]                        \n",
      "16it [00:02,  7.44it/s]                        \n",
      "16it [00:02,  7.39it/s]                        \n",
      "16it [00:02,  7.40it/s]                        \n",
      "16it [00:02,  7.39it/s]                        \n",
      "16it [00:02,  7.44it/s]                        \n",
      "16it [00:02,  7.39it/s]                        \n",
      "16it [00:02,  7.23it/s]                        \n",
      "16it [00:02,  7.29it/s]                        \n",
      "16it [00:02,  7.38it/s]                        \n",
      "16it [00:02,  7.35it/s]                        \n",
      "16it [00:02,  7.35it/s]                        \n",
      "16it [00:02,  6.37it/s]                        \n",
      "16it [00:02,  7.37it/s]                        \n",
      "16it [00:02,  7.44it/s]                        \n",
      "16it [00:02,  7.36it/s]                        \n",
      "16it [00:02,  7.26it/s]                        \n",
      "16it [00:02,  7.20it/s]                        \n",
      "16it [00:02,  7.38it/s]                        \n",
      "16it [00:02,  7.36it/s]                        \n",
      "16it [00:02,  7.29it/s]                        \n",
      "16it [00:02,  7.37it/s]                        \n",
      "16it [00:02,  7.41it/s]                        \n",
      "16it [00:02,  7.16it/s]                        \n",
      "16it [00:02,  7.37it/s]                        \n",
      "16it [00:02,  5.57it/s]                        \n",
      "16it [00:02,  7.21it/s]                        \n",
      "16it [00:02,  7.31it/s]                        \n",
      "16it [00:02,  7.37it/s]                        \n",
      "16it [00:02,  7.37it/s]                        \n",
      "16it [00:02,  7.42it/s]                        \n",
      "16it [00:02,  7.40it/s]                        \n",
      "16it [00:02,  7.30it/s]                        \n",
      "16it [00:02,  7.39it/s]                        \n",
      "16it [00:02,  7.28it/s]                        \n",
      "16it [00:02,  7.30it/s]                        \n",
      "16it [00:02,  7.21it/s]                        \n",
      "16it [00:02,  7.27it/s]                        \n",
      "16it [00:02,  7.15it/s]                        \n",
      "16it [00:02,  7.19it/s]                        \n",
      "16it [00:02,  7.24it/s]                        \n",
      "16it [00:02,  7.20it/s]                        \n",
      "16it [00:02,  7.30it/s]                        \n",
      "16it [00:02,  7.28it/s]                        \n",
      "16it [00:02,  7.12it/s]                        \n",
      "16it [00:02,  7.13it/s]                        \n",
      "16it [00:02,  7.27it/s]                        \n",
      "16it [00:02,  7.42it/s]                        \n",
      "16it [00:02,  7.32it/s]                        \n",
      "16it [00:02,  7.25it/s]                        \n"
     ]
    },
    {
     "data": {
      "image/png": "[encoded data removed]",
      "text/plain": [
       "<Figure size 640x480 with 3 Axes>"
      ]
     },
     "metadata": {},
     "output_type": "display_data"
    },
    {
     "data": {
      "text/plain": [
       "<Figure size 640x480 with 0 Axes>"
      ]
     },
     "metadata": {},
     "output_type": "display_data"
    },
    {
     "data": {
      "image/png": "[encoded data removed]",
      "text/plain": [
       "<Figure size 640x480 with 3 Axes>"
      ]
     },
     "metadata": {},
     "output_type": "display_data"
    }
   ],
   "source": [
    "swmodel.plot_state_imshow(x0_t)\n",
    "swmodel.plot_state_imshow(new_state)\n",
    "plt.figure()\n",
    "for _ in range(50):\n",
    "    new_state = numerical_model_sw.forward_no_obs(new_state)\n",
    "\n",
    "plt.figure()\n",
    "swmodel.plot_state_imshow(new_state)"
   ]
  },
  {
   "cell_type": "code",
   "execution_count": null,
   "metadata": {},
   "outputs": [],
   "source": []
  }
 ],
 "metadata": {
  "kernelspec": {
   "display_name": "Python 3",
   "language": "python",
   "name": "python3"
  },
  "language_info": {
   "codemirror_mode": {
    "name": "ipython",
    "version": 3
   },
   "file_extension": ".py",
   "mimetype": "text/x-python",
   "name": "python",
   "nbconvert_exporter": "python",
   "pygments_lexer": "ipython3",
   "version": "3.10.6"
  },
  "orig_nbformat": 4
 },
 "nbformat": 4,
 "nbformat_minor": 2
}
